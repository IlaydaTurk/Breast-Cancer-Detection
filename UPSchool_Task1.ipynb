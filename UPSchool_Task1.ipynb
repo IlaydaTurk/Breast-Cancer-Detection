{
  "nbformat": 4,
  "nbformat_minor": 0,
  "metadata": {
    "colab": {
      "name": "UPSchool_Task1.ipynb",
      "provenance": [],
      "collapsed_sections": [],
      "authorship_tag": "ABX9TyNOdk0m34COMOO86hmPBQFu",
      "include_colab_link": true
    },
    "kernelspec": {
      "name": "python3",
      "display_name": "Python 3"
    },
    "language_info": {
      "name": "python"
    }
  },
  "cells": [
    {
      "cell_type": "markdown",
      "metadata": {
        "id": "view-in-github",
        "colab_type": "text"
      },
      "source": [
        "<a href=\"https://colab.research.google.com/github/IlaydaTurk/Breast-Cancer-Detection/blob/main/UPSchool_Task1.ipynb\" target=\"_parent\"><img src=\"https://colab.research.google.com/assets/colab-badge.svg\" alt=\"Open In Colab\"/></a>"
      ]
    },
    {
      "cell_type": "markdown",
      "source": [
        "TASK-A"
      ],
      "metadata": {
        "id": "opwsHGwF5yoV"
      }
    },
    {
      "cell_type": "code",
      "source": [
        "def summation(n):\n",
        "  sum = 0\n",
        "  for i in range(1, n+1, 1):\n",
        "      sum += i\n",
        "  return sum\n",
        "\n",
        "print(summation(6))\n",
        "print(summation(20))\n",
        "print(summation(12))\n",
        "print(summation(8))\n",
        "print(summation(-6))"
      ],
      "metadata": {
        "colab": {
          "base_uri": "https://localhost:8080/"
        },
        "id": "SPYcuvTO52IF",
        "outputId": "4164710e-bd3f-4671-e1c2-1b126f32fb9c"
      },
      "execution_count": 1,
      "outputs": [
        {
          "output_type": "stream",
          "name": "stdout",
          "text": [
            "21\n",
            "210\n",
            "78\n",
            "36\n",
            "0\n"
          ]
        }
      ]
    },
    {
      "cell_type": "code",
      "source": [
        "def product(n):\n",
        "  product = 1\n",
        "  for i in range(1, n+1):\n",
        "      product *= i\n",
        "  return product\n",
        "\n",
        "print(product(0))\n",
        "print(product(1))\n",
        "print(product(2))\n",
        "print(product(3))\n",
        "print(product(4))\n",
        "print(product(5))"
      ],
      "metadata": {
        "colab": {
          "base_uri": "https://localhost:8080/"
        },
        "id": "_cFxz_uIPLjK",
        "outputId": "6bf04074-addc-407d-8fd0-6b7c4ed32761"
      },
      "execution_count": 2,
      "outputs": [
        {
          "output_type": "stream",
          "name": "stdout",
          "text": [
            "1\n",
            "1\n",
            "2\n",
            "6\n",
            "24\n",
            "120\n"
          ]
        }
      ]
    },
    {
      "cell_type": "markdown",
      "source": [
        "TASK-B:"
      ],
      "metadata": {
        "id": "oulvx_0kSAJz"
      }
    },
    {
      "cell_type": "code",
      "source": [
        "def sum_bet(num1, num2, num3):\n",
        "    sum = 0 \n",
        "    for i in range(num1, num2 + 1, num3):\n",
        "        sum += i\n",
        "    print(\"Summation between\",num1, \"and\" ,num2, \"with\",num3,\"increment is\" ,sum,)\n",
        "\n",
        "sum_bet(5, 15, 2)\n",
        "sum_bet(1, 3, 1)\n",
        "sum_bet(3, 10, 3)\n",
        "sum_bet(8, 15, 5)\n",
        "sum_bet(10, 15, 2)\n"
      ],
      "metadata": {
        "colab": {
          "base_uri": "https://localhost:8080/"
        },
        "id": "Fk_CdKMuSEWJ",
        "outputId": "e4674b0b-683d-4124-cb77-80c303dbed6b"
      },
      "execution_count": 3,
      "outputs": [
        {
          "output_type": "stream",
          "name": "stdout",
          "text": [
            "Summation between 5 and 15 with 2 increment is 60\n",
            "Summation between 1 and 3 with 1 increment is 6\n",
            "Summation between 3 and 10 with 3 increment is 18\n",
            "Summation between 8 and 15 with 5 increment is 21\n",
            "Summation between 10 and 15 with 2 increment is 36\n"
          ]
        }
      ]
    },
    {
      "cell_type": "markdown",
      "source": [
        "TASK-C"
      ],
      "metadata": {
        "id": "sw9SzSqxW7Nn"
      }
    },
    {
      "cell_type": "code",
      "source": [
        "def summation_while(n):\n",
        "  sum = 0 \n",
        "  num = 1 \n",
        "  while num <= n: \n",
        "      sum += num \n",
        "      num += 1    \n",
        "  return sum\n",
        "\n",
        "print(summation_while(6))\n",
        "print(summation_while(20))\n",
        "print(summation_while(12))\n",
        "print(summation_while(8))\n",
        "print(summation_while(-6))\n"
      ],
      "metadata": {
        "colab": {
          "base_uri": "https://localhost:8080/"
        },
        "id": "iqQhgLxzW9ki",
        "outputId": "c37ad354-f253-4561-ade7-ad21bf562539"
      },
      "execution_count": 4,
      "outputs": [
        {
          "output_type": "stream",
          "name": "stdout",
          "text": [
            "21\n",
            "210\n",
            "78\n",
            "36\n",
            "0\n"
          ]
        }
      ]
    },
    {
      "cell_type": "markdown",
      "source": [
        "TASK-D"
      ],
      "metadata": {
        "id": "LL9HPEPGbFwE"
      }
    },
    {
      "cell_type": "code",
      "source": [
        "def production_while(n):\n",
        "  production = 1 \n",
        "  num = 1 \n",
        "  while num <= n: \n",
        "      production *= num \n",
        "      num += 1    \n",
        "  return production\n",
        "\n",
        "print(production_while(0))\n",
        "print(production_while(1))\n",
        "print(production_while(2))\n",
        "print(production_while(3))\n",
        "print(production_while(4))\n",
        "print(production_while(5))\n"
      ],
      "metadata": {
        "colab": {
          "base_uri": "https://localhost:8080/"
        },
        "id": "UlwWgvCAYNEM",
        "outputId": "e29c484e-ef30-4abb-d82a-da5fadae96fd"
      },
      "execution_count": 5,
      "outputs": [
        {
          "output_type": "stream",
          "name": "stdout",
          "text": [
            "1\n",
            "1\n",
            "2\n",
            "6\n",
            "24\n",
            "120\n"
          ]
        }
      ]
    },
    {
      "cell_type": "markdown",
      "source": [
        "TASK-E"
      ],
      "metadata": {
        "id": "UZ7IlnoffGHv"
      }
    },
    {
      "cell_type": "code",
      "source": [
        "def sum_bet_while(num1, num2, num3):\n",
        "  sum = 0 \n",
        "  start = num1\n",
        "  end = num2 + 1\n",
        "  i = start\n",
        "  while i < end:\n",
        "      sum += i\n",
        "      i += num3\n",
        "  print(sum) \n",
        "\n",
        "sum_bet_while(5, 15, 2)\n",
        "sum_bet_while(1, 3, 1)\n",
        "sum_bet_while(3, 10, 3)\n",
        "sum_bet_while(8, 15, 5)\n",
        "sum_bet_while(10, 15, 2)\n"
      ],
      "metadata": {
        "colab": {
          "base_uri": "https://localhost:8080/"
        },
        "id": "jPlkw65WfHpd",
        "outputId": "749cd766-68d8-4545-a8ff-2f87a9c5bb42"
      },
      "execution_count": 6,
      "outputs": [
        {
          "output_type": "stream",
          "name": "stdout",
          "text": [
            "60\n",
            "6\n",
            "18\n",
            "21\n",
            "36\n"
          ]
        }
      ]
    }
  ]
}